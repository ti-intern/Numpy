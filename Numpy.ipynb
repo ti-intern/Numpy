{
 "cells": [
  {
   "cell_type": "markdown",
   "metadata": {},
   "source": [
    "# Numpy practice"
   ]
  },
  {
   "cell_type": "code",
   "execution_count": 1,
   "metadata": {},
   "outputs": [],
   "source": [
    "#This imports numpy as alias np\n",
    "import numpy as np"
   ]
  },
  {
   "cell_type": "code",
   "execution_count": 2,
   "metadata": {},
   "outputs": [
    {
     "name": "stdout",
     "output_type": "stream",
     "text": [
      "[1 2 3 4]\n",
      "1\n",
      "(4,)\n",
      "4\n",
      "int64\n"
     ]
    }
   ],
   "source": [
    "#To create an array\n",
    "a = np.array([1,2,3,4])\n",
    "\n",
    "print(a)\n",
    "\n",
    "print(a.ndim) #Number of dimensions\n",
    "\n",
    "print(a.shape) #Shape of the array\n",
    "\n",
    "print(a.size) #Number of elements in array\n",
    "\n",
    "print(a.dtype) #Datatype of elements"
   ]
  },
  {
   "cell_type": "code",
   "execution_count": 3,
   "metadata": {},
   "outputs": [
    {
     "name": "stdout",
     "output_type": "stream",
     "text": [
      "[[1 2 3 4]\n",
      " [5 6 7 8]]\n",
      "2\n",
      "(2, 4)\n",
      "8\n",
      "int64\n"
     ]
    }
   ],
   "source": [
    "b = np.array([ [1,2,3,4], [5,6,7,8] ])\n",
    "\n",
    "print(b)\n",
    "\n",
    "print(b.ndim) #Number of dimensions\n",
    "\n",
    "print(b.shape) #Shape of the array\n",
    "\n",
    "print(b.size) #Number of elements in array\n",
    "\n",
    "print(b.dtype) #Datatype of elements"
   ]
  },
  {
   "cell_type": "code",
   "execution_count": 4,
   "metadata": {},
   "outputs": [
    {
     "name": "stdout",
     "output_type": "stream",
     "text": [
      "[1 3 5 7 9]\n",
      "<class 'numpy.ndarray'>\n",
      "[-1.  -0.6 -0.2  0.2  0.6  1.   1.4  1.8]\n"
     ]
    }
   ],
   "source": [
    "c = np.arange(1,11,2) #Initial,final,jump - final is exclusive and initial inclusive\n",
    "print(c)\n",
    "print(type(c))\n",
    "\n",
    "c = np.arange(-1,2,0.4) #Also accepts float arguments\n",
    "print(c)"
   ]
  },
  {
   "cell_type": "code",
   "execution_count": 5,
   "metadata": {},
   "outputs": [
    {
     "name": "stdout",
     "output_type": "stream",
     "text": [
      "[[1 2]\n",
      " [3 4]\n",
      " [5 6]\n",
      " [7 8]]\n"
     ]
    }
   ],
   "source": [
    "b = b.reshape(-1,2) #Reshapes into 4*2. -1 means dimension is calculated automatically\n",
    "print(b)"
   ]
  },
  {
   "cell_type": "code",
   "execution_count": 6,
   "metadata": {},
   "outputs": [
    {
     "name": "stdout",
     "output_type": "stream",
     "text": [
      "[[1.+0.j 0.+2.j]\n",
      " [3.+0.j 0.+4.j]]\n"
     ]
    }
   ],
   "source": [
    "e = np.array([ [1,2j], [3,4j] ],dtype=complex)\n",
    "print(e)"
   ]
  },
  {
   "cell_type": "code",
   "execution_count": 7,
   "metadata": {},
   "outputs": [
    {
     "name": "stdout",
     "output_type": "stream",
     "text": [
      "[[0. 0. 0. 0. 0.]\n",
      " [0. 0. 0. 0. 0.]\n",
      " [0. 0. 0. 0. 0.]\n",
      " [0. 0. 0. 0. 0.]\n",
      " [0. 0. 0. 0. 0.]]\n",
      "[[1. 1. 1. 1. 1.]\n",
      " [1. 1. 1. 1. 1.]\n",
      " [1. 1. 1. 1. 1.]\n",
      " [1. 1. 1. 1. 1.]\n",
      " [1. 1. 1. 1. 1.]]\n",
      "[[1. 0. 0. 0. 0.]\n",
      " [0. 1. 0. 0. 0.]\n",
      " [0. 0. 1. 0. 0.]\n",
      " [0. 0. 0. 1. 0.]\n",
      " [0. 0. 0. 0. 1.]]\n",
      "[[1. 0. 0. 0. 0.]\n",
      " [0. 1. 0. 0. 0.]\n",
      " [0. 0. 1. 0. 0.]\n",
      " [0. 0. 0. 1. 0.]\n",
      " [0. 0. 0. 0. 1.]]\n"
     ]
    }
   ],
   "source": [
    "#Creates a 5*5 matrix with all zeros \n",
    "f = np.zeros((5,5))\n",
    "print(f)\n",
    "\n",
    "#Creates a 5*5 matrix with all zeros\n",
    "f = np.ones((5,5))\n",
    "print(f)\n",
    "\n",
    "#Creates a 5*5 identity matrix\n",
    "f = np.eye(5)\n",
    "print(f)\n",
    "\n",
    "#Creates a 5*5 matrix with random elements\n",
    "f = np.empty((5,5))\n",
    "print(f)"
   ]
  },
  {
   "cell_type": "code",
   "execution_count": 8,
   "metadata": {},
   "outputs": [
    {
     "name": "stdout",
     "output_type": "stream",
     "text": [
      "[ 1  2 56 12 -1 88]\n",
      "[  1   2  56  12 255  88]\n"
     ]
    }
   ],
   "source": [
    "#When values dont fit in the dtype then they overflow\n",
    "g = np.array([1,2,56,12,255,344],dtype='int8')\n",
    "print(g)\n",
    "\n",
    "#Unsigned int of 8 bits\n",
    "g = np.array([1,2,56,12,255,344],dtype='uint8')\n",
    "print(g)"
   ]
  },
  {
   "cell_type": "code",
   "execution_count": 9,
   "metadata": {},
   "outputs": [
    {
     "name": "stdout",
     "output_type": "stream",
     "text": [
      "[ 0.          0.50505051  1.01010101  1.51515152  2.02020202  2.52525253\n",
      "  3.03030303  3.53535354  4.04040404  4.54545455  5.05050505  5.55555556\n",
      "  6.06060606  6.56565657  7.07070707  7.57575758  8.08080808  8.58585859\n",
      "  9.09090909  9.5959596  10.1010101  10.60606061 11.11111111 11.61616162\n",
      " 12.12121212 12.62626263 13.13131313 13.63636364 14.14141414 14.64646465\n",
      " 15.15151515 15.65656566 16.16161616 16.66666667 17.17171717 17.67676768\n",
      " 18.18181818 18.68686869 19.19191919 19.6969697  20.2020202  20.70707071\n",
      " 21.21212121 21.71717172 22.22222222 22.72727273 23.23232323 23.73737374\n",
      " 24.24242424 24.74747475 25.25252525 25.75757576 26.26262626 26.76767677\n",
      " 27.27272727 27.77777778 28.28282828 28.78787879 29.29292929 29.7979798\n",
      " 30.3030303  30.80808081 31.31313131 31.81818182 32.32323232 32.82828283\n",
      " 33.33333333 33.83838384 34.34343434 34.84848485 35.35353535 35.85858586\n",
      " 36.36363636 36.86868687 37.37373737 37.87878788 38.38383838 38.88888889\n",
      " 39.39393939 39.8989899  40.4040404  40.90909091 41.41414141 41.91919192\n",
      " 42.42424242 42.92929293 43.43434343 43.93939394 44.44444444 44.94949495\n",
      " 45.45454545 45.95959596 46.46464646 46.96969697 47.47474747 47.97979798\n",
      " 48.48484848 48.98989899 49.49494949 50.        ]\n"
     ]
    }
   ],
   "source": [
    "#This generates 100 points between 0 to 50\n",
    "h = np.linspace(0,50,100)\n",
    "print(h)"
   ]
  },
  {
   "cell_type": "code",
   "execution_count": 10,
   "metadata": {},
   "outputs": [],
   "source": [
    "#Generates sine values for all corresponding values in h\n",
    "i = np.sin(h)"
   ]
  },
  {
   "cell_type": "code",
   "execution_count": 11,
   "metadata": {},
   "outputs": [
    {
     "data": {
      "text/plain": [
       "<Figure size 640x480 with 1 Axes>"
      ]
     },
     "metadata": {},
     "output_type": "display_data"
    }
   ],
   "source": [
    "from matplotlib import pyplot as plt\n",
    "#plot function takes first arg as x points and second arg as y points\n",
    "plt.plot(h,i)\n",
    "plt.show()"
   ]
  },
  {
   "cell_type": "code",
   "execution_count": 12,
   "metadata": {},
   "outputs": [
    {
     "name": "stdout",
     "output_type": "stream",
     "text": [
      "[ 9 18 27 36]\n",
      "[11 22 33 44]\n",
      "[ 10  40  90 160]\n",
      "[10. 10. 10. 10.]\n",
      "[     10     400   27000 2560000]\n",
      "[ 100  400  900 1600]\n",
      "[0 0 0 0]\n",
      "[ True False False False]\n",
      "[ 2.71828183  7.3890561  20.08553692 54.59815003]\n",
      "[2 3]\n",
      "[-10   2 -10   4]\n",
      "[  4 -10   2 -10]\n"
     ]
    }
   ],
   "source": [
    "j = np.array([10,20,30,40])\n",
    "h = np.arange(4) + 1 #Broadcasting all elements are added with 1\n",
    "\n",
    "print(j-h) #Element wise subtraction\n",
    "\n",
    "print(j+h) #Element wise addition\n",
    "\n",
    "print(j*h) #Element wise multiplication\n",
    "\n",
    "print(j/h) #Element wise division\n",
    "\n",
    "print(j**h) #All elements in j are raised to powers of corresponding elements in h\n",
    "\n",
    "print(j**2) #Square of all elements in j\n",
    "\n",
    "print(j%h) #Modulus of elements in j by elements in h\n",
    "\n",
    "print(j<20) #Return true if j < 20\n",
    "\n",
    "print(np.exp(h)) #Prints exponent of h\n",
    "\n",
    "print(h[1:3]) #Slicing operation\n",
    "\n",
    "h[0:3:2] = -10 #Starting from 0th index(inclusive) to 3rd index(exclusive) set every 2nd element to -10\n",
    "\n",
    "print(h)\n",
    "\n",
    "print(h[ : :-1]) #Reverses the list"
   ]
  },
  {
   "cell_type": "code",
   "execution_count": 13,
   "metadata": {},
   "outputs": [
    {
     "name": "stdout",
     "output_type": "stream",
     "text": [
      "[[ 5 12]\n",
      " [21 32]]\n",
      "[[19 22]\n",
      " [43 50]]\n",
      "[[19 22]\n",
      " [43 50]]\n"
     ]
    }
   ],
   "source": [
    "k = np.array([ [1,2],[3,4] ])\n",
    "l = np.array([ [5,6],[7,8] ])\n",
    "\n",
    "print(k*l) #Element wise product\n",
    "\n",
    "print(k@l) #Dot product works for python >= 3.5\n",
    "\n",
    "print(k.dot(l)) #Dot product"
   ]
  },
  {
   "cell_type": "code",
   "execution_count": 14,
   "metadata": {},
   "outputs": [
    {
     "name": "stdout",
     "output_type": "stream",
     "text": [
      "45\n",
      "0\n",
      "9\n",
      "[ 1  5  9 13 17]\n",
      "[25 20]\n",
      "[0 2 4 6 8]\n"
     ]
    }
   ],
   "source": [
    "m = np.array( [ [1,3,5,7,9],\n",
    "                [0,2,4,6,8] ] )\n",
    "\n",
    "print(np.sum(m)) #Sums all elements\n",
    "\n",
    "print(m.min()) #Takes min of all elements\n",
    "\n",
    "print(m.max()) #Max of all elements\n",
    "\n",
    "print(np.sum(m,axis=0)) #Axis = 0 means operations will take place along columns\n",
    "\n",
    "print(np.sum(m,axis=1)) #Axis = 1 means operations will take place along rows\n",
    "\n",
    "print(m.min(axis=0)) #Minimum along columns"
   ]
  },
  {
   "cell_type": "code",
   "execution_count": 45,
   "metadata": {},
   "outputs": [
    {
     "name": "stdout",
     "output_type": "stream",
     "text": [
      "[[0.70822152 0.72644829 0.22423853]\n",
      " [0.32598715 0.22957445 0.63768434]\n",
      " [0.90665678 0.36877296 0.57662733]]\n",
      "[[0 2 3 2]\n",
      " [6 6 2 1]]\n",
      "[0 1 2 3 4 5 6 7 8 9]\n",
      "[5 3 2 1 4 6 8 0 7 9]\n",
      "[[ 0.12729406  0.28441646  1.17442393  1.21491821  0.58552576  0.33027799\n",
      "   0.62775446  0.3769884   1.63301204 -0.2675088 ]]\n"
     ]
    }
   ],
   "source": [
    "n = np.random.random((3,3)) #Creates a 3*3 matrix with random floats between 0 to 1\n",
    "print(n)\n",
    "n = np.random.randint(0,10,size=(2,4)) #Returns a 2*4 matrix with integers between 0 to 10\n",
    "print(n)\n",
    "n = np.arange(10)\n",
    "print(n)\n",
    "np.random.shuffle(n) #Randomly shuffles an array\n",
    "print(n)\n",
    "n = np.random.randn(1,10) #Generates a normal distribution\n",
    "print(n)"
   ]
  },
  {
   "cell_type": "markdown",
   "metadata": {},
   "source": [
    "#### The dots (...) represent as many colons as needed to produce a complete indexing. If x is an array with 5 axes\n",
    "\n",
    "#### x[1,2,...] is equivalent to x[1,2,:,:,:]\n",
    "#### x[...,3] to x[:,:,:,:,3]\n",
    "#### x[4,...,5,:] to x[4,:,:,5,:]\n"
   ]
  },
  {
   "cell_type": "code",
   "execution_count": 56,
   "metadata": {},
   "outputs": [
    {
     "name": "stdout",
     "output_type": "stream",
     "text": [
      "[[ 0  1  2  3]\n",
      " [ 4  5  6  7]\n",
      " [ 8  9 10 11]\n",
      " [12 13 14 15]]\n",
      "[[ 0  4  8 12]\n",
      " [ 1  5  9 13]\n",
      " [ 2  6 10 14]\n",
      " [ 3  7 11 15]]\n",
      "[0 1 2 3]\n",
      "[4 5 6 7]\n",
      "[ 8  9 10 11]\n",
      "[12 13 14 15]\n",
      "0\n",
      "1\n",
      "2\n",
      "3\n",
      "4\n",
      "5\n",
      "6\n",
      "7\n",
      "8\n",
      "9\n",
      "10\n",
      "11\n",
      "12\n",
      "13\n",
      "14\n",
      "15\n",
      "[1. 3. 5. 7.]\n",
      "[[1. 3.]\n",
      " [5. 7.]]\n",
      "[1. 3. 5. 7.]\n"
     ]
    }
   ],
   "source": [
    "o = np.arange(16).reshape((4,4))\n",
    "print(o)\n",
    "\n",
    "#Print transpose of the array\n",
    "print(o.T)\n",
    "\n",
    "#Iterating is done row-wise\n",
    "for row in o:\n",
    "    print(row)\n",
    "    \n",
    "#Iterating is done element-wise\n",
    "for element in o.flat:\n",
    "    print(element)\n",
    "    \n",
    "#Takes floor of all elements\n",
    "o = np.array([1.2,3.4,5.6,7.8])\n",
    "o = np.floor(o)\n",
    "print(o)\n",
    "\n",
    "#We can also use resize. It changes dimension inplace\n",
    "o = o.reshape((2,2))\n",
    "print(o)\n",
    "\n",
    "#Flattens the array\n",
    "o = o.ravel() \n",
    "print(o)"
   ]
  },
  {
   "cell_type": "markdown",
   "metadata": {},
   "source": [
    "## Stacking arrays together"
   ]
  },
  {
   "cell_type": "code",
   "execution_count": 58,
   "metadata": {},
   "outputs": [
    {
     "name": "stdout",
     "output_type": "stream",
     "text": [
      "[[1 2]\n",
      " [3 4]\n",
      " [5 6]\n",
      " [7 8]]\n",
      "[[1 2 5 6]\n",
      " [3 4 7 8]]\n"
     ]
    }
   ],
   "source": [
    "p = np.array([[1,2],[3,4]])\n",
    "q = np.array([[5,6],[7,8]])\n",
    "\n",
    "#Stacks top to bottom along vertical axis\n",
    "print(np.vstack((p,q)))\n",
    "\n",
    "#Stacks from side to side along horizontal axis\n",
    "print(np.hstack((p,q)))"
   ]
  },
  {
   "cell_type": "code",
   "execution_count": 62,
   "metadata": {},
   "outputs": [
    {
     "name": "stdout",
     "output_type": "stream",
     "text": [
      "[[0. 1. 7. 7. 5. 1. 8. 1. 5. 9. 4. 7.]\n",
      " [3. 6. 9. 4. 5. 1. 0. 4. 8. 4. 5. 3.]]\n",
      "[array([[0., 1., 7., 7.],\n",
      "       [3., 6., 9., 4.]]), array([[5., 1., 8., 1.],\n",
      "       [5., 1., 0., 4.]]), array([[5., 9., 4., 7.],\n",
      "       [8., 4., 5., 3.]])]\n",
      "[array([[0., 1., 7., 7., 5., 1., 8., 1., 5., 9., 4., 7.]]), array([[3., 6., 9., 4., 5., 1., 0., 4., 8., 4., 5., 3.]])]\n"
     ]
    }
   ],
   "source": [
    "r = np.floor(10*np.random.random((2,12)))\n",
    "print(r)\n",
    "\n",
    "#Splits the matrix into 3 equal parts horizontally\n",
    "print(np.hsplit(r,3))\n",
    "\n",
    "#Splits the matrix into 2 equal parts vertically\n",
    "print(np.vsplit(r,2))"
   ]
  },
  {
   "cell_type": "code",
   "execution_count": null,
   "metadata": {},
   "outputs": [],
   "source": []
  }
 ],
 "metadata": {
  "kernelspec": {
   "display_name": "Python 3",
   "language": "python",
   "name": "python3"
  },
  "language_info": {
   "codemirror_mode": {
    "name": "ipython",
    "version": 3
   },
   "file_extension": ".py",
   "mimetype": "text/x-python",
   "name": "python",
   "nbconvert_exporter": "python",
   "pygments_lexer": "ipython3",
   "version": "3.6.7"
  }
 },
 "nbformat": 4,
 "nbformat_minor": 2
}
